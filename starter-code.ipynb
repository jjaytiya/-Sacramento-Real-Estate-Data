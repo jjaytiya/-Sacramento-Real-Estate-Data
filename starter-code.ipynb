{
 "cells": [
  {
   "cell_type": "markdown",
   "metadata": {},
   "source": [
    "<img src=\"http://imgur.com/1ZcRyrc.png\" style=\"float: left; margin: 20px; height: 55px\">\n",
    "\n",
    "# Simple Linear Regression with Sacramento Real Estate Data\n",
    "\n",
    "---\n",
    "\n",
    "In this lab, you will hone your exploratory data analysis (EDA) skills and practice constructing linear regressions on a data set of Sacramento real estate sales.  The data set contains information on qualities of the property, location of the property, and time of sale."
   ]
  },
  {
   "cell_type": "code",
   "execution_count": 2,
   "metadata": {},
   "outputs": [],
   "source": [
    "# Import \n",
    "\n",
    "import pandas as pd\n",
    "import numpy as np\n",
    "import matplotlib.pyplot as plt\n",
    "import seaborn as sns\n",
    "\n",
    "from sklearn.model_selection import train_test_split\n",
    "from sklearn.linear_model import LinearRegression\n",
    "from sklearn import metrics"
   ]
  },
  {
   "cell_type": "markdown",
   "metadata": {},
   "source": [
    "### 1. Read in the Sacramento housing data set.\n",
    "\n",
    "The file is stored in the `datasets` subfolder."
   ]
  },
  {
   "cell_type": "code",
   "execution_count": 4,
   "metadata": {},
   "outputs": [],
   "source": [
    "sacramento = pd.read_csv ('datasets/sacramento_real_estate_transactions.csv')"
   ]
  },
  {
   "cell_type": "markdown",
   "metadata": {},
   "source": [
    "### 2. Conduct exploratory data analysis on this data set. \n",
    "\n",
    "If you discover any issues with the data, fix them to the best of your ability. **Report any notable findings.**\n",
    "\n",
    "_**Note:** Zip codes often have leading zeros — e.g., 02215 = Boston, MA — which will often get knocked off automatically by many software programs like Python or Excel._"
   ]
  },
  {
   "cell_type": "code",
   "execution_count": 6,
   "metadata": {},
   "outputs": [
    {
     "data": {
      "text/plain": [
       "(985, 12)"
      ]
     },
     "execution_count": 6,
     "metadata": {},
     "output_type": "execute_result"
    }
   ],
   "source": [
    "sacramento.shape"
   ]
  },
  {
   "cell_type": "code",
   "execution_count": 7,
   "metadata": {},
   "outputs": [
    {
     "data": {
      "text/plain": [
       "street       985\n",
       "city         985\n",
       "zip          985\n",
       "state        985\n",
       "beds         985\n",
       "baths        985\n",
       "sq__ft       985\n",
       "type         985\n",
       "sale_date    985\n",
       "price        985\n",
       "latitude     985\n",
       "longitude    985\n",
       "dtype: int64"
      ]
     },
     "execution_count": 7,
     "metadata": {},
     "output_type": "execute_result"
    }
   ],
   "source": [
    "sacramento.count()"
   ]
  },
  {
   "cell_type": "code",
   "execution_count": 8,
   "metadata": {},
   "outputs": [
    {
     "data": {
      "text/html": [
       "<div>\n",
       "<style scoped>\n",
       "    .dataframe tbody tr th:only-of-type {\n",
       "        vertical-align: middle;\n",
       "    }\n",
       "\n",
       "    .dataframe tbody tr th {\n",
       "        vertical-align: top;\n",
       "    }\n",
       "\n",
       "    .dataframe thead th {\n",
       "        text-align: right;\n",
       "    }\n",
       "</style>\n",
       "<table border=\"1\" class=\"dataframe\">\n",
       "  <thead>\n",
       "    <tr style=\"text-align: right;\">\n",
       "      <th></th>\n",
       "      <th>street</th>\n",
       "      <th>city</th>\n",
       "      <th>zip</th>\n",
       "      <th>state</th>\n",
       "      <th>beds</th>\n",
       "      <th>baths</th>\n",
       "      <th>sq__ft</th>\n",
       "      <th>type</th>\n",
       "      <th>sale_date</th>\n",
       "      <th>price</th>\n",
       "      <th>latitude</th>\n",
       "      <th>longitude</th>\n",
       "    </tr>\n",
       "  </thead>\n",
       "  <tbody>\n",
       "    <tr>\n",
       "      <th>0</th>\n",
       "      <td>3526 HIGH ST</td>\n",
       "      <td>SACRAMENTO</td>\n",
       "      <td>95838</td>\n",
       "      <td>CA</td>\n",
       "      <td>2</td>\n",
       "      <td>1</td>\n",
       "      <td>836</td>\n",
       "      <td>Residential</td>\n",
       "      <td>Wed May 21 00:00:00 EDT 2008</td>\n",
       "      <td>59222</td>\n",
       "      <td>38.631913</td>\n",
       "      <td>-121.434879</td>\n",
       "    </tr>\n",
       "    <tr>\n",
       "      <th>1</th>\n",
       "      <td>51 OMAHA CT</td>\n",
       "      <td>SACRAMENTO</td>\n",
       "      <td>95823</td>\n",
       "      <td>CA</td>\n",
       "      <td>3</td>\n",
       "      <td>1</td>\n",
       "      <td>1167</td>\n",
       "      <td>Residential</td>\n",
       "      <td>Wed May 21 00:00:00 EDT 2008</td>\n",
       "      <td>68212</td>\n",
       "      <td>38.478902</td>\n",
       "      <td>-121.431028</td>\n",
       "    </tr>\n",
       "    <tr>\n",
       "      <th>2</th>\n",
       "      <td>2796 BRANCH ST</td>\n",
       "      <td>SACRAMENTO</td>\n",
       "      <td>95815</td>\n",
       "      <td>CA</td>\n",
       "      <td>2</td>\n",
       "      <td>1</td>\n",
       "      <td>796</td>\n",
       "      <td>Residential</td>\n",
       "      <td>Wed May 21 00:00:00 EDT 2008</td>\n",
       "      <td>68880</td>\n",
       "      <td>38.618305</td>\n",
       "      <td>-121.443839</td>\n",
       "    </tr>\n",
       "    <tr>\n",
       "      <th>3</th>\n",
       "      <td>2805 JANETTE WAY</td>\n",
       "      <td>SACRAMENTO</td>\n",
       "      <td>95815</td>\n",
       "      <td>CA</td>\n",
       "      <td>2</td>\n",
       "      <td>1</td>\n",
       "      <td>852</td>\n",
       "      <td>Residential</td>\n",
       "      <td>Wed May 21 00:00:00 EDT 2008</td>\n",
       "      <td>69307</td>\n",
       "      <td>38.616835</td>\n",
       "      <td>-121.439146</td>\n",
       "    </tr>\n",
       "    <tr>\n",
       "      <th>4</th>\n",
       "      <td>6001 MCMAHON DR</td>\n",
       "      <td>SACRAMENTO</td>\n",
       "      <td>95824</td>\n",
       "      <td>CA</td>\n",
       "      <td>2</td>\n",
       "      <td>1</td>\n",
       "      <td>797</td>\n",
       "      <td>Residential</td>\n",
       "      <td>Wed May 21 00:00:00 EDT 2008</td>\n",
       "      <td>81900</td>\n",
       "      <td>38.519470</td>\n",
       "      <td>-121.435768</td>\n",
       "    </tr>\n",
       "  </tbody>\n",
       "</table>\n",
       "</div>"
      ],
      "text/plain": [
       "             street        city    zip state  beds  baths  sq__ft  \\\n",
       "0      3526 HIGH ST  SACRAMENTO  95838    CA     2      1     836   \n",
       "1       51 OMAHA CT  SACRAMENTO  95823    CA     3      1    1167   \n",
       "2    2796 BRANCH ST  SACRAMENTO  95815    CA     2      1     796   \n",
       "3  2805 JANETTE WAY  SACRAMENTO  95815    CA     2      1     852   \n",
       "4   6001 MCMAHON DR  SACRAMENTO  95824    CA     2      1     797   \n",
       "\n",
       "          type                     sale_date  price   latitude   longitude  \n",
       "0  Residential  Wed May 21 00:00:00 EDT 2008  59222  38.631913 -121.434879  \n",
       "1  Residential  Wed May 21 00:00:00 EDT 2008  68212  38.478902 -121.431028  \n",
       "2  Residential  Wed May 21 00:00:00 EDT 2008  68880  38.618305 -121.443839  \n",
       "3  Residential  Wed May 21 00:00:00 EDT 2008  69307  38.616835 -121.439146  \n",
       "4  Residential  Wed May 21 00:00:00 EDT 2008  81900  38.519470 -121.435768  "
      ]
     },
     "execution_count": 8,
     "metadata": {},
     "output_type": "execute_result"
    }
   ],
   "source": [
    "sacramento.head()"
   ]
  },
  {
   "cell_type": "code",
   "execution_count": 9,
   "metadata": {},
   "outputs": [
    {
     "data": {
      "text/plain": [
       "street        object\n",
       "city          object\n",
       "zip            int64\n",
       "state         object\n",
       "beds           int64\n",
       "baths          int64\n",
       "sq__ft         int64\n",
       "type          object\n",
       "sale_date     object\n",
       "price          int64\n",
       "latitude     float64\n",
       "longitude    float64\n",
       "dtype: object"
      ]
     },
     "execution_count": 9,
     "metadata": {},
     "output_type": "execute_result"
    }
   ],
   "source": [
    "sacramento.dtypes"
   ]
  },
  {
   "cell_type": "code",
   "execution_count": 10,
   "metadata": {},
   "outputs": [
    {
     "data": {
      "text/plain": [
       "street       0\n",
       "city         0\n",
       "zip          0\n",
       "state        0\n",
       "beds         0\n",
       "baths        0\n",
       "sq__ft       0\n",
       "type         0\n",
       "sale_date    0\n",
       "price        0\n",
       "latitude     0\n",
       "longitude    0\n",
       "dtype: int64"
      ]
     },
     "execution_count": 10,
     "metadata": {},
     "output_type": "execute_result"
    }
   ],
   "source": [
    "sacramento.isnull().sum()"
   ]
  },
  {
   "cell_type": "code",
   "execution_count": 11,
   "metadata": {},
   "outputs": [
    {
     "data": {
      "image/png": "[encoded data removed]",
      "text/plain": [
       "<Figure size 640x480 with 9 Axes>"
      ]
     },
     "metadata": {},
     "output_type": "display_data"
    }
   ],
   "source": [
    "# Let's hist help to get the overview of the skews\n",
    "sacramento.hist();\n",
    "plt.tight_layout()\n",
    "\n",
    "# What the hist tell us...\n",
    "# There is 0 beds, 0 baths, 0 sqft, 0 and negative price"
   ]
  },
  {
   "cell_type": "code",
   "execution_count": 12,
   "metadata": {},
   "outputs": [
    {
     "data": {
      "text/plain": [
       "count       985.000000\n",
       "mean     233715.951269\n",
       "std      139088.818896\n",
       "min     -210944.000000\n",
       "25%      145000.000000\n",
       "50%      213750.000000\n",
       "75%      300000.000000\n",
       "max      884790.000000\n",
       "Name: price, dtype: float64"
      ]
     },
     "execution_count": 12,
     "metadata": {},
     "output_type": "execute_result"
    }
   ],
   "source": [
    " #Get the most information from the price as it will be our 'y' or the target\n",
    "sacramento ['price'].describe()"
   ]
  },
  {
   "cell_type": "code",
   "execution_count": 13,
   "metadata": {},
   "outputs": [
    {
     "data": {
      "text/plain": [
       "array(['SACRAMENTO', 'RANCHO CORDOVA', 'RIO LINDA', 'CITRUS HEIGHTS',\n",
       "       'NORTH HIGHLANDS', 'ANTELOPE', 'ELK GROVE', 'ELVERTA', 'GALT',\n",
       "       'CARMICHAEL', 'ORANGEVALE', 'FOLSOM', 'MATHER', 'POLLOCK PINES',\n",
       "       'GOLD RIVER', 'EL DORADO HILLS', 'RANCHO MURIETA', 'WILTON',\n",
       "       'GREENWOOD', 'FAIR OAKS', 'CAMERON PARK', 'LINCOLN', 'PLACERVILLE',\n",
       "       'MEADOW VISTA', 'ROSEVILLE', 'ROCKLIN', 'AUBURN', 'LOOMIS',\n",
       "       'EL DORADO', 'PENRYN', 'GRANITE BAY', 'FORESTHILL',\n",
       "       'DIAMOND SPRINGS', 'SHINGLE SPRINGS', 'COOL', 'WALNUT GROVE',\n",
       "       'GARDEN VALLEY', 'SLOUGHHOUSE', 'WEST SACRAMENTO'], dtype=object)"
      ]
     },
     "execution_count": 13,
     "metadata": {},
     "output_type": "execute_result"
    }
   ],
   "source": [
    "sacramento['city'].unique()"
   ]
  },
  {
   "cell_type": "code",
   "execution_count": 14,
   "metadata": {},
   "outputs": [],
   "source": [
    "# Change zip type as the hint said 'leading zeros' not work well with python\n",
    "sacramento['zip'] = sacramento['zip'].astype(str) "
   ]
  },
  {
   "cell_type": "code",
   "execution_count": 15,
   "metadata": {},
   "outputs": [
    {
     "data": {
      "text/plain": [
       "state\n",
       "CA    984\n",
       "AC      1\n",
       "Name: count, dtype: int64"
      ]
     },
     "execution_count": 15,
     "metadata": {},
     "output_type": "execute_result"
    }
   ],
   "source": [
    "# Assume there is mis-spelling. The Sacramento is state in Califonia (CA)\n",
    "sacramento['state'].value_counts()  "
   ]
  },
  {
   "cell_type": "code",
   "execution_count": 16,
   "metadata": {},
   "outputs": [
    {
     "data": {
      "text/plain": [
       "state\n",
       "CA    985\n",
       "Name: count, dtype: int64"
      ]
     },
     "execution_count": 16,
     "metadata": {},
     "output_type": "execute_result"
    }
   ],
   "source": [
    "sacramento['state'] = sacramento['state'].str.replace(\"AC\", \"CA\") # Correct the AC to CA\n",
    "sacramento['state'].value_counts() # Check work again"
   ]
  },
  {
   "cell_type": "code",
   "execution_count": 17,
   "metadata": {},
   "outputs": [],
   "source": [
    "# Rename 'sq__ft' to 'sqft' as easier\n",
    "sacramento.rename (columns={'sq__ft':'sqft'}, inplace = True) "
   ]
  },
  {
   "cell_type": "code",
   "execution_count": 18,
   "metadata": {},
   "outputs": [],
   "source": [
    "# The given data shows there is large number of house that have 0 beds, bath, and sqft. "
   ]
  },
  {
   "cell_type": "code",
   "execution_count": 19,
   "metadata": {},
   "outputs": [],
   "source": [
    "# Remove rows where price, sqft, or baths have invalid values\n",
    "sacramento = sacramento[\n",
    "    (sacramento['price'] > 0) &\n",
    "    (sacramento['sqft'] > 0) &\n",
    "    (sacramento['baths'] > 0)]"
   ]
  },
  {
   "cell_type": "markdown",
   "metadata": {},
   "source": [
    "The reasons that I remove the invalid price,sqft, and baths because:\n",
    "1. It is logically wrong. The price, sqft,and the baths cannot be 0 or negative.\n",
    "2. The nonsens data can produce misleading coefficients or predictions.\n",
    "\n",
    "The dropped rows is 17% proportion of the total datasets will effect the model predection __BUT__ if still keeps those invalid value will not benefit to the prediction as well."
   ]
  },
  {
   "cell_type": "code",
   "execution_count": 21,
   "metadata": {},
   "outputs": [
    {
     "data": {
      "text/plain": [
       "array(['Residential', 'Condo', 'Multi-Family'], dtype=object)"
      ]
     },
     "execution_count": 21,
     "metadata": {},
     "output_type": "execute_result"
    }
   ],
   "source": [
    "sacramento['type'].unique()"
   ]
  },
  {
   "cell_type": "code",
   "execution_count": 22,
   "metadata": {},
   "outputs": [
    {
     "data": {
      "text/html": [
       "<div>\n",
       "<style scoped>\n",
       "    .dataframe tbody tr th:only-of-type {\n",
       "        vertical-align: middle;\n",
       "    }\n",
       "\n",
       "    .dataframe tbody tr th {\n",
       "        vertical-align: top;\n",
       "    }\n",
       "\n",
       "    .dataframe thead th {\n",
       "        text-align: right;\n",
       "    }\n",
       "</style>\n",
       "<table border=\"1\" class=\"dataframe\">\n",
       "  <thead>\n",
       "    <tr style=\"text-align: right;\">\n",
       "      <th></th>\n",
       "      <th>type</th>\n",
       "      <th>type_label</th>\n",
       "    </tr>\n",
       "  </thead>\n",
       "  <tbody>\n",
       "    <tr>\n",
       "      <th>0</th>\n",
       "      <td>Residential</td>\n",
       "      <td>1</td>\n",
       "    </tr>\n",
       "    <tr>\n",
       "      <th>1</th>\n",
       "      <td>Residential</td>\n",
       "      <td>1</td>\n",
       "    </tr>\n",
       "    <tr>\n",
       "      <th>2</th>\n",
       "      <td>Residential</td>\n",
       "      <td>1</td>\n",
       "    </tr>\n",
       "    <tr>\n",
       "      <th>3</th>\n",
       "      <td>Residential</td>\n",
       "      <td>1</td>\n",
       "    </tr>\n",
       "    <tr>\n",
       "      <th>4</th>\n",
       "      <td>Residential</td>\n",
       "      <td>1</td>\n",
       "    </tr>\n",
       "  </tbody>\n",
       "</table>\n",
       "</div>"
      ],
      "text/plain": [
       "          type  type_label\n",
       "0  Residential           1\n",
       "1  Residential           1\n",
       "2  Residential           1\n",
       "3  Residential           1\n",
       "4  Residential           1"
      ]
     },
     "execution_count": 22,
     "metadata": {},
     "output_type": "execute_result"
    }
   ],
   "source": [
    "# Map the 'type' column to numerical values (in case using in the prediction model)\n",
    "sacramento['type_label'] = sacramento['type'].map({\n",
    "    'Residential': 1,\n",
    "    'Condo': 2,\n",
    "    'Multi-Family': 3\n",
    "})\n",
    "\n",
    "# Show the updated data \n",
    "sacramento[['type', 'type_label']].head()\n"
   ]
  },
  {
   "cell_type": "code",
   "execution_count": 23,
   "metadata": {},
   "outputs": [
    {
     "data": {
      "text/html": [
       "<div>\n",
       "<style scoped>\n",
       "    .dataframe tbody tr th:only-of-type {\n",
       "        vertical-align: middle;\n",
       "    }\n",
       "\n",
       "    .dataframe tbody tr th {\n",
       "        vertical-align: top;\n",
       "    }\n",
       "\n",
       "    .dataframe thead th {\n",
       "        text-align: right;\n",
       "    }\n",
       "</style>\n",
       "<table border=\"1\" class=\"dataframe\">\n",
       "  <thead>\n",
       "    <tr style=\"text-align: right;\">\n",
       "      <th></th>\n",
       "      <th>beds</th>\n",
       "      <th>baths</th>\n",
       "      <th>sqft</th>\n",
       "      <th>price</th>\n",
       "      <th>type_label</th>\n",
       "    </tr>\n",
       "  </thead>\n",
       "  <tbody>\n",
       "    <tr>\n",
       "      <th>0</th>\n",
       "      <td>2</td>\n",
       "      <td>1</td>\n",
       "      <td>836</td>\n",
       "      <td>59222</td>\n",
       "      <td>1</td>\n",
       "    </tr>\n",
       "    <tr>\n",
       "      <th>1</th>\n",
       "      <td>3</td>\n",
       "      <td>1</td>\n",
       "      <td>1167</td>\n",
       "      <td>68212</td>\n",
       "      <td>1</td>\n",
       "    </tr>\n",
       "    <tr>\n",
       "      <th>2</th>\n",
       "      <td>2</td>\n",
       "      <td>1</td>\n",
       "      <td>796</td>\n",
       "      <td>68880</td>\n",
       "      <td>1</td>\n",
       "    </tr>\n",
       "    <tr>\n",
       "      <th>3</th>\n",
       "      <td>2</td>\n",
       "      <td>1</td>\n",
       "      <td>852</td>\n",
       "      <td>69307</td>\n",
       "      <td>1</td>\n",
       "    </tr>\n",
       "    <tr>\n",
       "      <th>4</th>\n",
       "      <td>2</td>\n",
       "      <td>1</td>\n",
       "      <td>797</td>\n",
       "      <td>81900</td>\n",
       "      <td>1</td>\n",
       "    </tr>\n",
       "  </tbody>\n",
       "</table>\n",
       "</div>"
      ],
      "text/plain": [
       "   beds  baths  sqft  price  type_label\n",
       "0     2      1   836  59222           1\n",
       "1     3      1  1167  68212           1\n",
       "2     2      1   796  68880           1\n",
       "3     2      1   852  69307           1\n",
       "4     2      1   797  81900           1"
      ]
     },
     "execution_count": 23,
     "metadata": {},
     "output_type": "execute_result"
    }
   ],
   "source": [
    "# After cleaning let's see some correlation for the numeric col.\n",
    "\n",
    "numeric_columns = sacramento.drop(columns=[\n",
    "    'street', 'city', 'zip','state','type','sale_date','latitude','longitude'])\n",
    "\n",
    "numeric_columns.head() # Check"
   ]
  },
  {
   "cell_type": "markdown",
   "metadata": {},
   "source": [
    "When you've finished cleaning or have made a good deal of progress cleaning, it's always a good idea to save your work. Use the pandas `to_csv` method to export your cleaned dataset.\n",
    "\n",
    "```python\n",
    "# example -- your dataframe name may be different\n",
    "dataframe.to_csv('./datasets/sacramento_cleaned_dataframe.csv', index=False)\n",
    "\n",
    "```"
   ]
  },
  {
   "cell_type": "code",
   "execution_count": 25,
   "metadata": {},
   "outputs": [],
   "source": [
    "# Saving clean dataset\n",
    "\n",
    "# numeric_columns.to_csv('./datasets/sacramento_cleaned_dataframe.csv', index=False)"
   ]
  },
  {
   "cell_type": "code",
   "execution_count": 26,
   "metadata": {},
   "outputs": [
    {
     "data": {
      "text/plain": [
       "Index(['beds', 'baths', 'sqft', 'price', 'type_label'], dtype='object')"
      ]
     },
     "execution_count": 26,
     "metadata": {},
     "output_type": "execute_result"
    }
   ],
   "source": [
    "numeric_columns.columns"
   ]
  },
  {
   "cell_type": "markdown",
   "metadata": {},
   "source": [
    "### 3. Our goal will be to predict price. List variables that you think qualify as predictors of price in an SLR (Simple Linear Regression) model.\n",
    "\n",
    "For each of the variables you believe should be considered, generate `a plot` showing the `relationship between the independent and dependent` variables."
   ]
  },
  {
   "cell_type": "code",
   "execution_count": 28,
   "metadata": {},
   "outputs": [
    {
     "data": {
      "image/png": "[encoded data removed]",
      "text/plain": [
       "<Figure size 800x600 with 2 Axes>"
      ]
     },
     "metadata": {},
     "output_type": "display_data"
    }
   ],
   "source": [
    "#Throwing our correlation into a heatmap\n",
    "plt.figure(figsize =(8,6))\n",
    "sns.heatmap(numeric_columns.corr(), annot = True, linewidth=0.1)\n",
    "plt.yticks(rotation = 0)\n",
    "plt.show()"
   ]
  },
  {
   "cell_type": "code",
   "execution_count": 29,
   "metadata": {},
   "outputs": [
    {
     "data": {
      "image/png": "[encoded data removed]",
      "text/plain": [
       "<Figure size 640x480 with 2 Axes>"
      ]
     },
     "metadata": {},
     "output_type": "display_data"
    }
   ],
   "source": [
    "# Have a closer look to see correlation between price and other features.\n",
    "sns.heatmap(numeric_columns.corr()[['price']].sort_values(by='price',ascending=False), \n",
    "            # 'coolwarm' or 'viridis' are better for color - blindness\n",
    "            cmap='coolwarm', \n",
    "            annot = True)\n",
    "plt.yticks(rotation=0);"
   ]
  },
  {
   "cell_type": "code",
   "execution_count": 30,
   "metadata": {},
   "outputs": [],
   "source": [
    "# Square feet has high correlation with price in this dataset. \n",
    "# Understanding that the bigger area is the more price will be\n",
    "\n",
    "# The 'beds','baths','sqft','price'\twill be X\n",
    "# 'price' will be target or y"
   ]
  },
  {
   "cell_type": "markdown",
   "metadata": {},
   "source": [
    "---"
   ]
  },
  {
   "cell_type": "markdown",
   "metadata": {},
   "source": [
    "### 4. Which variable would be the best predictor of `y` in an SLR (Simple Linear Regression) model? Why?"
   ]
  },
  {
   "cell_type": "markdown",
   "metadata": {},
   "source": [
    "__Answer__\n",
    "\n",
    "`price` will be target as in the business term we will target at the price first."
   ]
  },
  {
   "cell_type": "markdown",
   "metadata": {},
   "source": [
    "---"
   ]
  },
  {
   "cell_type": "markdown",
   "metadata": {},
   "source": [
    "### 5. Write a function that will take in two lists, `x` and `y`, and returns the intercept and slope coefficients that minimize SSE (Sum of Squared Errors). \n",
    "\n",
    "`y` is the target variable, and `x` is the predictor variable.\n",
    "\n",
    "**Don't use scikit-learn for this**. Instead, use numpy and scipy.\n",
    "\n",
    "The slope and intercept of simple linear regression can be calculated by using certain summary statistics. In particular, we'll need to know:\n",
    "\n",
    "- $\\bar{x}$, the mean of `x`\n",
    "- $\\bar{y}$, the mean of `y`\n",
    "- $s_{x}$, the standard deviation of `x`\n",
    "- $s_{y}$, the standard deviation of `y`\n",
    "- $r_{xy}$, the correlation of `x` and `y`\n",
    "\n",
    "Given these summary statistics, the **coefficient on `X`** (or the slope) can be given by $\\beta_{1} = r_{xy} * \\frac{s_{y}}{s_{x}}$. The **intercept of the model** can be given by $\\beta_{0} = \\bar{y} - \\beta_{1}\\bar{x}$.\n",
    "\n",
    "Your function should take in `x` and `y`, then use the above summary statistics to calculate the slope and intercept.\n",
    "\n",
    "- **Test your function on price and the variable you determined was the best predictor in Question #4.**\n",
    "- **Report the slope and intercept.**"
   ]
  },
  {
   "cell_type": "code",
   "execution_count": 36,
   "metadata": {},
   "outputs": [
    {
     "name": "stdout",
     "output_type": "stream",
     "text": [
      "Intercept: 29984.36172651974, Slope: 125.31418257510143\n"
     ]
    }
   ],
   "source": [
    "def calculate_slope_intercept(x, y):\n",
    "    # Convert to numpy arrays for easier calculations\n",
    "    x = np.array(x)\n",
    "    y = np.array(y)\n",
    "    \n",
    "    # Calculate summary statistics\n",
    "    mean_x = np.mean(x)\n",
    "    mean_y = np.mean(y)\n",
    "    std_x = np.std(x)  \n",
    "    std_y = np.std(y)\n",
    "    correlation = np.corrcoef(x, y)[0, 1]\n",
    "    \n",
    "    # Calculate slope (b1)\n",
    "    slope = correlation * (std_y / std_x)\n",
    "    \n",
    "    # Calculate intercept (b0)\n",
    "    intercept = mean_y - (slope * mean_x)\n",
    "    \n",
    "    return intercept, slope\n",
    "\n",
    "\n",
    "price = numeric_columns['price']  \n",
    "sqft = numeric_columns['sqft']\n",
    "\n",
    "\n",
    "# Calculate the slope and intercept\n",
    "intercept, slope = calculate_slope_intercept(sqft, price)\n",
    "\n",
    "print(f\"Intercept: {intercept}, Slope: {slope}\")\n"
   ]
  },
  {
   "cell_type": "markdown",
   "metadata": {},
   "source": [
    "---"
   ]
  },
  {
   "cell_type": "markdown",
   "metadata": {},
   "source": [
    "### 6. Now interpret the intercept and the slope."
   ]
  },
  {
   "cell_type": "markdown",
   "metadata": {},
   "source": [
    "__Answer:__\n",
    "\n",
    "`Intercept (b0=29984.36)`\n",
    "Means that if there were a home with 0 square feet, then the baseline price roughly $29,984.36 \n",
    "\n",
    "\n",
    "`Slope (b1=125.31)`\n",
    "The slope indicates how much the price of a home is expected to increase for each additional square foot of space. In this case every 1 unit of square feet is __associated__ with the price of $125.31\n",
    "\n",
    "__Key Take Away:__ This suggests the bigger area, the higher price will be.\n"
   ]
  },
  {
   "cell_type": "markdown",
   "metadata": {},
   "source": [
    "---"
   ]
  },
  {
   "cell_type": "markdown",
   "metadata": {},
   "source": [
    "### 7. Give an example of how this model could be used for prediction and how it could be used for inference. \n",
    "\n",
    "**Be sure to make it clear which example is associated with prediction and which is associated with inference.**"
   ]
  },
  {
   "cell_type": "markdown",
   "metadata": {},
   "source": [
    "__Answer:__\n",
    "\n",
    "`Prediction:` Use this model to predict the estimate price of the property based on the square feet (size).\n",
    "\n",
    "`Inference:` Use this model to understand the impact of the size on home prices.\n"
   ]
  },
  {
   "cell_type": "markdown",
   "metadata": {},
   "source": [
    "### 8: Using the model you came up with in Question #5, calculate and plot the residuals."
   ]
  },
  {
   "cell_type": "code",
   "execution_count": 44,
   "metadata": {},
   "outputs": [
    {
     "data": {
      "image/png": "[encoded data removed]",
      "text/plain": [
       "<Figure size 900x600 with 1 Axes>"
      ]
     },
     "metadata": {},
     "output_type": "display_data"
    }
   ],
   "source": [
    "# Formula for predicted prices\n",
    "y_preds = intercept + slope * sqft  \n",
    "\n",
    "# Assign the predictions back to DataFrame\n",
    "numeric_columns['predictions'] = y_preds\n",
    "\n",
    "# Calculate the residuals (actual prices - predicted prices)\n",
    "numeric_columns['residuals'] = numeric_columns['price'] - numeric_columns['predictions']\n",
    "\n",
    "\n",
    "# Sns.lmplot for price vs sqft with the regression line\n",
    "sns.lmplot(x='sqft', y='price', data=numeric_columns, line_kws={'color': 'red'}, height=6, aspect=1.5)\n",
    "plt.title('Price vs Square Footage with Regression Line')\n",
    "plt.show()\n"
   ]
  },
  {
   "cell_type": "markdown",
   "metadata": {},
   "source": [
    "---\n",
    "\n",
    "## Dummy Variables\n",
    "\n",
    "It is important to be cautious with categorical variables, which represent distinct groups or categories, when building a regression. If put in a regression \"as-is,\" categorical variables represented as integers will be treated like *continuous* variables.\n",
    "\n",
    "That is to say, instead of group \"3\" having a different effect on the estimation than group \"1\" it will estimate literally 3 times more than group 1. \n",
    "\n",
    "For example, if occupation category \"1\" represents \"analyst\" and occupation category \"3\" represents \"barista\", and our target variable is salary, if we leave this as a column of integers then barista will always have `beta*3` the effect of analyst.\n",
    "\n",
    "This will almost certainly force the beta coefficient to be something strange and incorrect. Instead, we can re-represent the categories as multiple \"dummy coded\" columns.\n",
    "\n"
   ]
  },
  {
   "cell_type": "markdown",
   "metadata": {},
   "source": [
    "#### A Word of Caution When Creating Dummies\n",
    "\n",
    "Let's touch on precautions we should take when dummy coding.\n",
    "\n",
    "**If you convert a qualitative variable to dummy variables, you want to turn a variable with N categories into N-1 variables.**\n",
    "\n",
    "> **Scenario 1:** Suppose we're working with the variable \"sex\" or \"gender\" with values \"M\" and \"F\". \n",
    "\n",
    "You should include in your model only one variable for \"sex = F\" which takes on 1 if sex is female and 0 if sex is not female! Rather than saying \"a one unit change in X,\" the coefficient associated with \"sex = F\" is interpreted as the average change in Y when sex = F relative to when sex = M.\n",
    "\n",
    "| Female | Male | \n",
    "|-------|------|\n",
    "| 0 | 1 | \n",
    "| 1 | 0 |\n",
    "| 0 | 1 |\n",
    "| 1 | 0 |\n",
    "| 1 | 0 |\n",
    "_As we can see a 1 in the female column indicates a 0 in the male column. And so, we have two columns stating the same information in different ways._\n",
    "\n",
    "> Scenario 2: Suppose we're modeling revenue at a bar for each of the days of the week. We have a column with strings identifying which day of the week this observation occurred in.\n",
    "\n",
    "We might include six of the days as their own variables: \"Monday\", \"Tuesday\", \"Wednesday\", \"Thursday\", \"Friday\", \"Saturday\". **But not all 7 days.**  \n",
    "\n",
    "|Monday | Tuesday | Wednesday | Thursday | Friday | Saturday | \n",
    "|-------|---------|-----------|----------|--------|----------|\n",
    "| 1     | 0       |0          |      0   |0       | 0        | \n",
    "| 0     | 1       |0          |      0   |0       | 0        | \n",
    "| 0     | 0       |1          |      0   |0       | 0        | \n",
    "| 0     | 0       |0          |      1   |0       | 0        | \n",
    "| 0     | 0       |0          |      0   |1       | 0        | \n",
    "| 0     | 0       |0          |      0   |0       | 1        | \n",
    "| 0     | 0       |0          |      0   |0       | 0        | \n",
    "\n",
    "_As humans we can infer from the last row that if its is not Monday, Tuesday, Wednesday, Thursday, Friday or Saturday, it must be Sunday. Models work the same way._\n",
    "\n",
    "The coefficient for Monday is then interpreted as the average change in revenue when \"day = Monday\" relative to \"day = Sunday.\" The coefficient for Tuesday is interpreted as the average change in revenue when \"day = Tuesday\" relative to \"day = Sunday\" and so on.\n",
    "\n",
    "The category you leave out, which the other columns are *relative to*, is often referred to as the **reference category**.\n",
    "\n",
    "### 9. Use the `pd.get_dummies` function to convert the `type` column into dummy-coded variables."
   ]
  },
  {
   "cell_type": "code",
   "execution_count": 47,
   "metadata": {},
   "outputs": [
    {
     "data": {
      "text/html": [
       "<div>\n",
       "<style scoped>\n",
       "    .dataframe tbody tr th:only-of-type {\n",
       "        vertical-align: middle;\n",
       "    }\n",
       "\n",
       "    .dataframe tbody tr th {\n",
       "        vertical-align: top;\n",
       "    }\n",
       "\n",
       "    .dataframe thead th {\n",
       "        text-align: right;\n",
       "    }\n",
       "</style>\n",
       "<table border=\"1\" class=\"dataframe\">\n",
       "  <thead>\n",
       "    <tr style=\"text-align: right;\">\n",
       "      <th></th>\n",
       "      <th>type_Condo</th>\n",
       "      <th>type_Multi-Family</th>\n",
       "      <th>type_Residential</th>\n",
       "    </tr>\n",
       "  </thead>\n",
       "  <tbody>\n",
       "    <tr>\n",
       "      <th>273</th>\n",
       "      <td>False</td>\n",
       "      <td>False</td>\n",
       "      <td>True</td>\n",
       "    </tr>\n",
       "    <tr>\n",
       "      <th>709</th>\n",
       "      <td>False</td>\n",
       "      <td>False</td>\n",
       "      <td>True</td>\n",
       "    </tr>\n",
       "    <tr>\n",
       "      <th>247</th>\n",
       "      <td>False</td>\n",
       "      <td>False</td>\n",
       "      <td>True</td>\n",
       "    </tr>\n",
       "    <tr>\n",
       "      <th>334</th>\n",
       "      <td>False</td>\n",
       "      <td>False</td>\n",
       "      <td>True</td>\n",
       "    </tr>\n",
       "    <tr>\n",
       "      <th>654</th>\n",
       "      <td>False</td>\n",
       "      <td>False</td>\n",
       "      <td>True</td>\n",
       "    </tr>\n",
       "  </tbody>\n",
       "</table>\n",
       "</div>"
      ],
      "text/plain": [
       "     type_Condo  type_Multi-Family  type_Residential\n",
       "273       False              False              True\n",
       "709       False              False              True\n",
       "247       False              False              True\n",
       "334       False              False              True\n",
       "654       False              False              True"
      ]
     },
     "execution_count": 47,
     "metadata": {},
     "output_type": "execute_result"
    }
   ],
   "source": [
    "# Create dummy variables\n",
    "type_dummies = pd.get_dummies(sacramento['type'],prefix = 'type')\n",
    "type_dummies.sample(n=5,random_state=42) #check work"
   ]
  },
  {
   "cell_type": "code",
   "execution_count": 48,
   "metadata": {},
   "outputs": [
    {
     "data": {
      "text/html": [
       "<div>\n",
       "<style scoped>\n",
       "    .dataframe tbody tr th:only-of-type {\n",
       "        vertical-align: middle;\n",
       "    }\n",
       "\n",
       "    .dataframe tbody tr th {\n",
       "        vertical-align: top;\n",
       "    }\n",
       "\n",
       "    .dataframe thead th {\n",
       "        text-align: right;\n",
       "    }\n",
       "</style>\n",
       "<table border=\"1\" class=\"dataframe\">\n",
       "  <thead>\n",
       "    <tr style=\"text-align: right;\">\n",
       "      <th></th>\n",
       "      <th>type_Multi-Family</th>\n",
       "      <th>type_Residential</th>\n",
       "    </tr>\n",
       "  </thead>\n",
       "  <tbody>\n",
       "    <tr>\n",
       "      <th>273</th>\n",
       "      <td>False</td>\n",
       "      <td>True</td>\n",
       "    </tr>\n",
       "    <tr>\n",
       "      <th>709</th>\n",
       "      <td>False</td>\n",
       "      <td>True</td>\n",
       "    </tr>\n",
       "    <tr>\n",
       "      <th>247</th>\n",
       "      <td>False</td>\n",
       "      <td>True</td>\n",
       "    </tr>\n",
       "    <tr>\n",
       "      <th>334</th>\n",
       "      <td>False</td>\n",
       "      <td>True</td>\n",
       "    </tr>\n",
       "    <tr>\n",
       "      <th>654</th>\n",
       "      <td>False</td>\n",
       "      <td>True</td>\n",
       "    </tr>\n",
       "  </tbody>\n",
       "</table>\n",
       "</div>"
      ],
      "text/plain": [
       "     type_Multi-Family  type_Residential\n",
       "273              False              True\n",
       "709              False              True\n",
       "247              False              True\n",
       "334              False              True\n",
       "654              False              True"
      ]
     },
     "execution_count": 48,
     "metadata": {},
     "output_type": "execute_result"
    }
   ],
   "source": [
    "# In the training data we only need 2 dummy variables \n",
    "# Because 2 dummies captures all of the \"information\"\n",
    "# This case will drop the first col. which wold be 'type_Condo' \n",
    "# and it will be use as baseline in the training\n",
    "\n",
    "type_dummies.drop(type_dummies.columns[0],axis=1, inplace=True)\n",
    "type_dummies.sample(n=5,random_state=42) #check work"
   ]
  },
  {
   "cell_type": "markdown",
   "metadata": {},
   "source": [
    "### 10. Check the dummy columns you've created. Do they all make sense?\n",
    "\n",
    "Use `.head()` on the new dataframe you've created. Depending on how you cleaned the data earlier in this notebook, there may be a dummy column that needs to be removed. Check that all the columns you've created make sense, and if any of the columns seem to be errors, drop them. If there don't appear to be any errors, then move on to the next step!"
   ]
  },
  {
   "cell_type": "code",
   "execution_count": 50,
   "metadata": {},
   "outputs": [
    {
     "data": {
      "text/html": [
       "<div>\n",
       "<style scoped>\n",
       "    .dataframe tbody tr th:only-of-type {\n",
       "        vertical-align: middle;\n",
       "    }\n",
       "\n",
       "    .dataframe tbody tr th {\n",
       "        vertical-align: top;\n",
       "    }\n",
       "\n",
       "    .dataframe thead th {\n",
       "        text-align: right;\n",
       "    }\n",
       "</style>\n",
       "<table border=\"1\" class=\"dataframe\">\n",
       "  <thead>\n",
       "    <tr style=\"text-align: right;\">\n",
       "      <th></th>\n",
       "      <th>beds</th>\n",
       "      <th>baths</th>\n",
       "      <th>sqft</th>\n",
       "      <th>price</th>\n",
       "      <th>type_label</th>\n",
       "      <th>predictions</th>\n",
       "      <th>residuals</th>\n",
       "    </tr>\n",
       "  </thead>\n",
       "  <tbody>\n",
       "    <tr>\n",
       "      <th>0</th>\n",
       "      <td>2</td>\n",
       "      <td>1</td>\n",
       "      <td>836</td>\n",
       "      <td>59222</td>\n",
       "      <td>1</td>\n",
       "      <td>134747.018359</td>\n",
       "      <td>-75525.018359</td>\n",
       "    </tr>\n",
       "    <tr>\n",
       "      <th>1</th>\n",
       "      <td>3</td>\n",
       "      <td>1</td>\n",
       "      <td>1167</td>\n",
       "      <td>68212</td>\n",
       "      <td>1</td>\n",
       "      <td>176226.012792</td>\n",
       "      <td>-108014.012792</td>\n",
       "    </tr>\n",
       "    <tr>\n",
       "      <th>2</th>\n",
       "      <td>2</td>\n",
       "      <td>1</td>\n",
       "      <td>796</td>\n",
       "      <td>68880</td>\n",
       "      <td>1</td>\n",
       "      <td>129734.451056</td>\n",
       "      <td>-60854.451056</td>\n",
       "    </tr>\n",
       "    <tr>\n",
       "      <th>3</th>\n",
       "      <td>2</td>\n",
       "      <td>1</td>\n",
       "      <td>852</td>\n",
       "      <td>69307</td>\n",
       "      <td>1</td>\n",
       "      <td>136752.045281</td>\n",
       "      <td>-67445.045281</td>\n",
       "    </tr>\n",
       "    <tr>\n",
       "      <th>4</th>\n",
       "      <td>2</td>\n",
       "      <td>1</td>\n",
       "      <td>797</td>\n",
       "      <td>81900</td>\n",
       "      <td>1</td>\n",
       "      <td>129859.765239</td>\n",
       "      <td>-47959.765239</td>\n",
       "    </tr>\n",
       "  </tbody>\n",
       "</table>\n",
       "</div>"
      ],
      "text/plain": [
       "   beds  baths  sqft  price  type_label    predictions      residuals\n",
       "0     2      1   836  59222           1  134747.018359  -75525.018359\n",
       "1     3      1  1167  68212           1  176226.012792 -108014.012792\n",
       "2     2      1   796  68880           1  129734.451056  -60854.451056\n",
       "3     2      1   852  69307           1  136752.045281  -67445.045281\n",
       "4     2      1   797  81900           1  129859.765239  -47959.765239"
      ]
     },
     "execution_count": 50,
     "metadata": {},
     "output_type": "execute_result"
    }
   ],
   "source": [
    "numeric_columns.head()"
   ]
  },
  {
   "cell_type": "code",
   "execution_count": 51,
   "metadata": {},
   "outputs": [
    {
     "data": {
      "text/html": [
       "<div>\n",
       "<style scoped>\n",
       "    .dataframe tbody tr th:only-of-type {\n",
       "        vertical-align: middle;\n",
       "    }\n",
       "\n",
       "    .dataframe tbody tr th {\n",
       "        vertical-align: top;\n",
       "    }\n",
       "\n",
       "    .dataframe thead th {\n",
       "        text-align: right;\n",
       "    }\n",
       "</style>\n",
       "<table border=\"1\" class=\"dataframe\">\n",
       "  <thead>\n",
       "    <tr style=\"text-align: right;\">\n",
       "      <th></th>\n",
       "      <th>beds</th>\n",
       "      <th>baths</th>\n",
       "      <th>sqft</th>\n",
       "      <th>price</th>\n",
       "      <th>type_label</th>\n",
       "      <th>predictions</th>\n",
       "      <th>residuals</th>\n",
       "      <th>type_Multi-Family</th>\n",
       "      <th>type_Residential</th>\n",
       "    </tr>\n",
       "  </thead>\n",
       "  <tbody>\n",
       "    <tr>\n",
       "      <th>0</th>\n",
       "      <td>2</td>\n",
       "      <td>1</td>\n",
       "      <td>836</td>\n",
       "      <td>59222</td>\n",
       "      <td>1</td>\n",
       "      <td>134747.018359</td>\n",
       "      <td>-75525.018359</td>\n",
       "      <td>False</td>\n",
       "      <td>True</td>\n",
       "    </tr>\n",
       "    <tr>\n",
       "      <th>1</th>\n",
       "      <td>3</td>\n",
       "      <td>1</td>\n",
       "      <td>1167</td>\n",
       "      <td>68212</td>\n",
       "      <td>1</td>\n",
       "      <td>176226.012792</td>\n",
       "      <td>-108014.012792</td>\n",
       "      <td>False</td>\n",
       "      <td>True</td>\n",
       "    </tr>\n",
       "    <tr>\n",
       "      <th>2</th>\n",
       "      <td>2</td>\n",
       "      <td>1</td>\n",
       "      <td>796</td>\n",
       "      <td>68880</td>\n",
       "      <td>1</td>\n",
       "      <td>129734.451056</td>\n",
       "      <td>-60854.451056</td>\n",
       "      <td>False</td>\n",
       "      <td>True</td>\n",
       "    </tr>\n",
       "    <tr>\n",
       "      <th>3</th>\n",
       "      <td>2</td>\n",
       "      <td>1</td>\n",
       "      <td>852</td>\n",
       "      <td>69307</td>\n",
       "      <td>1</td>\n",
       "      <td>136752.045281</td>\n",
       "      <td>-67445.045281</td>\n",
       "      <td>False</td>\n",
       "      <td>True</td>\n",
       "    </tr>\n",
       "    <tr>\n",
       "      <th>4</th>\n",
       "      <td>2</td>\n",
       "      <td>1</td>\n",
       "      <td>797</td>\n",
       "      <td>81900</td>\n",
       "      <td>1</td>\n",
       "      <td>129859.765239</td>\n",
       "      <td>-47959.765239</td>\n",
       "      <td>False</td>\n",
       "      <td>True</td>\n",
       "    </tr>\n",
       "  </tbody>\n",
       "</table>\n",
       "</div>"
      ],
      "text/plain": [
       "   beds  baths  sqft  price  type_label    predictions      residuals  \\\n",
       "0     2      1   836  59222           1  134747.018359  -75525.018359   \n",
       "1     3      1  1167  68212           1  176226.012792 -108014.012792   \n",
       "2     2      1   796  68880           1  129734.451056  -60854.451056   \n",
       "3     2      1   852  69307           1  136752.045281  -67445.045281   \n",
       "4     2      1   797  81900           1  129859.765239  -47959.765239   \n",
       "\n",
       "   type_Multi-Family  type_Residential  \n",
       "0              False              True  \n",
       "1              False              True  \n",
       "2              False              True  \n",
       "3              False              True  \n",
       "4              False              True  "
      ]
     },
     "execution_count": 51,
     "metadata": {},
     "output_type": "execute_result"
    }
   ],
   "source": [
    "# Concatenate the dummy columns with 'numeric_columns'\n",
    "numeric_columns = pd.concat([numeric_columns, type_dummies], axis=1)\n",
    "\n",
    "# Display the updated DataFrame\n",
    "numeric_columns.head()"
   ]
  },
  {
   "cell_type": "code",
   "execution_count": 52,
   "metadata": {},
   "outputs": [
    {
     "data": {
      "text/html": [
       "<div>\n",
       "<style scoped>\n",
       "    .dataframe tbody tr th:only-of-type {\n",
       "        vertical-align: middle;\n",
       "    }\n",
       "\n",
       "    .dataframe tbody tr th {\n",
       "        vertical-align: top;\n",
       "    }\n",
       "\n",
       "    .dataframe thead th {\n",
       "        text-align: right;\n",
       "    }\n",
       "</style>\n",
       "<table border=\"1\" class=\"dataframe\">\n",
       "  <thead>\n",
       "    <tr style=\"text-align: right;\">\n",
       "      <th></th>\n",
       "      <th>beds</th>\n",
       "      <th>baths</th>\n",
       "      <th>sqft</th>\n",
       "      <th>price</th>\n",
       "      <th>predictions</th>\n",
       "      <th>residuals</th>\n",
       "      <th>type_Multi-Family</th>\n",
       "      <th>type_Residential</th>\n",
       "    </tr>\n",
       "  </thead>\n",
       "  <tbody>\n",
       "    <tr>\n",
       "      <th>0</th>\n",
       "      <td>2</td>\n",
       "      <td>1</td>\n",
       "      <td>836</td>\n",
       "      <td>59222</td>\n",
       "      <td>134747.018359</td>\n",
       "      <td>-75525.018359</td>\n",
       "      <td>False</td>\n",
       "      <td>True</td>\n",
       "    </tr>\n",
       "    <tr>\n",
       "      <th>1</th>\n",
       "      <td>3</td>\n",
       "      <td>1</td>\n",
       "      <td>1167</td>\n",
       "      <td>68212</td>\n",
       "      <td>176226.012792</td>\n",
       "      <td>-108014.012792</td>\n",
       "      <td>False</td>\n",
       "      <td>True</td>\n",
       "    </tr>\n",
       "    <tr>\n",
       "      <th>2</th>\n",
       "      <td>2</td>\n",
       "      <td>1</td>\n",
       "      <td>796</td>\n",
       "      <td>68880</td>\n",
       "      <td>129734.451056</td>\n",
       "      <td>-60854.451056</td>\n",
       "      <td>False</td>\n",
       "      <td>True</td>\n",
       "    </tr>\n",
       "    <tr>\n",
       "      <th>3</th>\n",
       "      <td>2</td>\n",
       "      <td>1</td>\n",
       "      <td>852</td>\n",
       "      <td>69307</td>\n",
       "      <td>136752.045281</td>\n",
       "      <td>-67445.045281</td>\n",
       "      <td>False</td>\n",
       "      <td>True</td>\n",
       "    </tr>\n",
       "    <tr>\n",
       "      <th>4</th>\n",
       "      <td>2</td>\n",
       "      <td>1</td>\n",
       "      <td>797</td>\n",
       "      <td>81900</td>\n",
       "      <td>129859.765239</td>\n",
       "      <td>-47959.765239</td>\n",
       "      <td>False</td>\n",
       "      <td>True</td>\n",
       "    </tr>\n",
       "  </tbody>\n",
       "</table>\n",
       "</div>"
      ],
      "text/plain": [
       "   beds  baths  sqft  price    predictions      residuals  type_Multi-Family  \\\n",
       "0     2      1   836  59222  134747.018359  -75525.018359              False   \n",
       "1     3      1  1167  68212  176226.012792 -108014.012792              False   \n",
       "2     2      1   796  68880  129734.451056  -60854.451056              False   \n",
       "3     2      1   852  69307  136752.045281  -67445.045281              False   \n",
       "4     2      1   797  81900  129859.765239  -47959.765239              False   \n",
       "\n",
       "   type_Residential  \n",
       "0              True  \n",
       "1              True  \n",
       "2              True  \n",
       "3              True  \n",
       "4              True  "
      ]
     },
     "execution_count": 52,
     "metadata": {},
     "output_type": "execute_result"
    }
   ],
   "source": [
    "# Drop type_label as we transform it to the get dummies\n",
    "numeric_columns.drop(columns=['type_label'], inplace=True)\n",
    "\n",
    "numeric_columns.head() # Check work again"
   ]
  },
  {
   "cell_type": "markdown",
   "metadata": {},
   "source": [
    "### 11. Build what you think may be the best MLR (Multiple Linear Regression) model predicting `price`. \n",
    "\n",
    "Choose at least three variables, and build a model that uses them to predict price. At least one of the variables you choose should be a dummy-coded variable. (This can be one we created before or a new one.) \n",
    "\n",
    "You may need to load in the scikit-learn API:\n",
    "\n",
    "```python\n",
    "from sklearn.linear_model import LinearRegression\n",
    "\n",
    "model = LinearRegression()\n",
    "```"
   ]
  },
  {
   "cell_type": "code",
   "execution_count": 54,
   "metadata": {},
   "outputs": [
    {
     "name": "stdout",
     "output_type": "stream",
     "text": [
      "Intercept: 6637.188236192684\n",
      "Coefficients: [   124.91512021 -36786.63113068  27028.32921069]\n"
     ]
    }
   ],
   "source": [
    "# Set up feature_cols\n",
    "feature_cols = ['sqft','type_Multi-Family','type_Residential']\n",
    "X = numeric_columns[feature_cols]  # Predictor variables\n",
    "y = numeric_columns['price']  # Target variable (price)\n",
    "\n",
    "# Train/Test Split (75% train, 25% test)\n",
    "X_train, X_test, y_train, y_test = train_test_split(X, y, random_state=42)\n",
    "\n",
    "# Instantiate/Fit Model\n",
    "lr = LinearRegression()\n",
    "lr.fit(X_train,y_train)\n",
    "\n",
    "# Model coefficients (intercept and slopes)\n",
    "print(f\"Intercept: {lr.intercept_}\")\n",
    "print(f\"Coefficients: {lr.coef_}\")\n",
    "\n",
    "# Evaluate the model by predicting prices for the test set\n",
    "y_pred = lr.predict(X_test)\n"
   ]
  },
  {
   "cell_type": "code",
   "execution_count": 55,
   "metadata": {},
   "outputs": [],
   "source": [
    "# Interpret this as:\n",
    "\n",
    "# The base price of a condo with 0 sqft and 0 bedrooms is $6,637.19\n",
    "# For each additional square foot, the price increases by $124.92\n",
    "\n",
    "# If the property is a Multi-Family type, its price will be $36,786.63 lower than a condo.\n",
    "# If the property is a Residential type, its price will be $27,028.33 higher than a condo."
   ]
  },
  {
   "cell_type": "markdown",
   "metadata": {},
   "source": [
    "### 12. Plot the true price vs the predicted price to evaluate your MLR (Multiple Linear Regression) visually.\n",
    "\n",
    "You can use matplotlib or seaborn."
   ]
  },
  {
   "cell_type": "code",
   "execution_count": 57,
   "metadata": {},
   "outputs": [
    {
     "data": {
      "image/png": "[encoded data removed]",
      "text/plain": [
       "<Figure size 1000x800 with 1 Axes>"
      ]
     },
     "metadata": {},
     "output_type": "display_data"
    }
   ],
   "source": [
    "# Plot true prices vs. predicted prices\n",
    "plt.figure(figsize=(10,8))\n",
    "plt.scatter(y_test, y_pred, alpha=0.7, color='skyblue')  # True prices (y_test) vs predicted prices (y_pred)\n",
    "plt.plot([y_test.min(), y_test.max()], [y_test.min(), y_test.max()], color='r', linestyle='--', lw=2)  # Diagonal line\n",
    "\n",
    "# Add labels and title\n",
    "plt.xlabel('True Price')\n",
    "plt.ylabel('Predicted Price')\n",
    "plt.title('True Price vs. Predicted Price')\n",
    "\n",
    "# Show the plot\n",
    "plt.show()\n"
   ]
  },
  {
   "cell_type": "markdown",
   "metadata": {},
   "source": [
    "### 13. List the five assumptions for an MLR (Multiple Linear Regression) model. \n",
    "\n",
    "Indicate which ones are the same as the assumptions for an SLR model. "
   ]
  },
  {
   "cell_type": "markdown",
   "metadata": {},
   "source": [
    "__Answer__\n",
    "\n",
    "1. Linearity: The independent variables (X) and the dependent variable (y) must have an approximately linear relationship.\n",
    "2. Independence: Observations are independent of each other.\n",
    "3. Homoscedasticity: Residuals have constant variance across all levels of independent variables.\n",
    "4. Normality of Residuals:Residuals should be approximately normally distributed.\n",
    "5. No Multicollinearity: Independent variables should not be highly correlated with each other."
   ]
  },
  {
   "cell_type": "markdown",
   "metadata": {},
   "source": [
    "---"
   ]
  },
  {
   "cell_type": "markdown",
   "metadata": {},
   "source": [
    "### 14. Pick at least two assumptions and explain whether or not you believe them to be met for your model, and explain why."
   ]
  },
  {
   "cell_type": "markdown",
   "metadata": {},
   "source": [
    "\n",
    "`1. Linearity`\n",
    "\n",
    "Belief: I believe this assumption is likely met for the model.\n",
    "\n",
    "Explanation:  The X and y appear to have a linear relationship\n",
    "\n",
    "\n",
    "\n",
    "`2. Independence`\n",
    "\n",
    "Belief: I do not believe this assumption is likely met for the model.\n",
    "\n",
    "Explanation: The assumption of independence suggests that the residuals should not be correlated. However, in this case, the positive relationship between square footage (sqft) and price indicates that as sqft increases, prices also rise. This could suggest that there may be patterns in the residuals, which could violate the independence assumption. Therefore, I am concerned that the residuals may not be independent.\n"
   ]
  },
  {
   "cell_type": "markdown",
   "metadata": {},
   "source": [
    "---"
   ]
  },
  {
   "cell_type": "markdown",
   "metadata": {},
   "source": [
    "### 15. [Bonus] Generate a table showing the point estimates, standard errors, t-scores, p-values, and 95% confidence intervals for the model you built. \n",
    "\n",
    "**Write a few sentences interpreting some of the output.**\n",
    "\n",
    "> **Hint:** scikit-learn does not have this functionality built in, but statsmodels does in the `summary` method.  To fit the statsmodels model use something like the following.  There is one big caveat here, however!  `statsmodels.OLS` does _not_ add an intercept to your model, so you will need to do this explicitly by adding a column filled with the number 1 to your X matrix\n",
    "\n",
    "```python\n",
    "import statsmodels.api as sm\n",
    "\n",
    "# The Default here is Linear Regression (ordinary least squares regression OLS)\n",
    "model = sm.OLS(y,X).fit()\n",
    "```"
   ]
  },
  {
   "cell_type": "code",
   "execution_count": 65,
   "metadata": {},
   "outputs": [],
   "source": [
    "import statsmodels.api as sm #importing"
   ]
  },
  {
   "cell_type": "code",
   "execution_count": 66,
   "metadata": {},
   "outputs": [
    {
     "data": {
      "text/plain": [
       "Index(['beds', 'baths', 'sqft', 'price', 'predictions', 'residuals',\n",
       "       'type_Multi-Family', 'type_Residential'],\n",
       "      dtype='object')"
      ]
     },
     "execution_count": 66,
     "metadata": {},
     "output_type": "execute_result"
    }
   ],
   "source": [
    "numeric_columns.columns"
   ]
  },
  {
   "cell_type": "code",
   "execution_count": 67,
   "metadata": {},
   "outputs": [
    {
     "data": {
      "text/html": [
       "<table class=\"simpletable\">\n",
       "<caption>OLS Regression Results</caption>\n",
       "<tr>\n",
       "  <th>Dep. Variable:</th>          <td>price</td>      <th>  R-squared:         </th> <td>   0.485</td> \n",
       "</tr>\n",
       "<tr>\n",
       "  <th>Model:</th>                   <td>OLS</td>       <th>  Adj. R-squared:    </th> <td>   0.483</td> \n",
       "</tr>\n",
       "<tr>\n",
       "  <th>Method:</th>             <td>Least Squares</td>  <th>  F-statistic:       </th> <td>   253.8</td> \n",
       "</tr>\n",
       "<tr>\n",
       "  <th>Date:</th>             <td>Sun, 20 Oct 2024</td> <th>  Prob (F-statistic):</th> <td>4.83e-116</td>\n",
       "</tr>\n",
       "<tr>\n",
       "  <th>Time:</th>                 <td>14:57:54</td>     <th>  Log-Likelihood:    </th> <td> -10391.</td> \n",
       "</tr>\n",
       "<tr>\n",
       "  <th>No. Observations:</th>      <td>   813</td>      <th>  AIC:               </th> <td>2.079e+04</td>\n",
       "</tr>\n",
       "<tr>\n",
       "  <th>Df Residuals:</th>          <td>   809</td>      <th>  BIC:               </th> <td>2.081e+04</td>\n",
       "</tr>\n",
       "<tr>\n",
       "  <th>Df Model:</th>              <td>     3</td>      <th>                     </th>     <td> </td>    \n",
       "</tr>\n",
       "<tr>\n",
       "  <th>Covariance Type:</th>      <td>nonrobust</td>    <th>                     </th>     <td> </td>    \n",
       "</tr>\n",
       "</table>\n",
       "<table class=\"simpletable\">\n",
       "<tr>\n",
       "    <td></td>       <th>coef</th>     <th>std err</th>      <th>t</th>      <th>P>|t|</th>  <th>[0.025</th>    <th>0.975]</th>  \n",
       "</tr>\n",
       "<tr>\n",
       "  <th>const</th> <td>  4.81e+04</td> <td> 1.23e+04</td> <td>    3.912</td> <td> 0.000</td> <td>  2.4e+04</td> <td> 7.22e+04</td>\n",
       "</tr>\n",
       "<tr>\n",
       "  <th>beds</th>  <td>-1.191e+04</td> <td> 5206.857</td> <td>   -2.287</td> <td> 0.022</td> <td>-2.21e+04</td> <td>-1685.279</td>\n",
       "</tr>\n",
       "<tr>\n",
       "  <th>baths</th> <td> 4597.3611</td> <td> 6877.127</td> <td>    0.669</td> <td> 0.504</td> <td>-8901.756</td> <td> 1.81e+04</td>\n",
       "</tr>\n",
       "<tr>\n",
       "  <th>sqft</th>  <td>  132.5549</td> <td>    7.308</td> <td>   18.138</td> <td> 0.000</td> <td>  118.210</td> <td>  146.900</td>\n",
       "</tr>\n",
       "</table>\n",
       "<table class=\"simpletable\">\n",
       "<tr>\n",
       "  <th>Omnibus:</th>       <td>214.880</td> <th>  Durbin-Watson:     </th> <td>   1.146</td>\n",
       "</tr>\n",
       "<tr>\n",
       "  <th>Prob(Omnibus):</th> <td> 0.000</td>  <th>  Jarque-Bera (JB):  </th> <td>6472.297</td>\n",
       "</tr>\n",
       "<tr>\n",
       "  <th>Skew:</th>          <td> 0.515</td>  <th>  Prob(JB):          </th> <td>    0.00</td>\n",
       "</tr>\n",
       "<tr>\n",
       "  <th>Kurtosis:</th>      <td>16.784</td>  <th>  Cond. No.          </th> <td>7.33e+03</td>\n",
       "</tr>\n",
       "</table><br/><br/>Notes:<br/>[1] Standard Errors assume that the covariance matrix of the errors is correctly specified.<br/>[2] The condition number is large, 7.33e+03. This might indicate that there are<br/>strong multicollinearity or other numerical problems."
      ],
      "text/latex": [
       "\\begin{center}\n",
       "\\begin{tabular}{lclc}\n",
       "\\toprule\n",
       "\\textbf{Dep. Variable:}    &      price       & \\textbf{  R-squared:         } &     0.485   \\\\\n",
       "\\textbf{Model:}            &       OLS        & \\textbf{  Adj. R-squared:    } &     0.483   \\\\\n",
       "\\textbf{Method:}           &  Least Squares   & \\textbf{  F-statistic:       } &     253.8   \\\\\n",
       "\\textbf{Date:}             & Sun, 20 Oct 2024 & \\textbf{  Prob (F-statistic):} & 4.83e-116   \\\\\n",
       "\\textbf{Time:}             &     14:57:54     & \\textbf{  Log-Likelihood:    } &   -10391.   \\\\\n",
       "\\textbf{No. Observations:} &         813      & \\textbf{  AIC:               } & 2.079e+04   \\\\\n",
       "\\textbf{Df Residuals:}     &         809      & \\textbf{  BIC:               } & 2.081e+04   \\\\\n",
       "\\textbf{Df Model:}         &           3      & \\textbf{                     } &             \\\\\n",
       "\\textbf{Covariance Type:}  &    nonrobust     & \\textbf{                     } &             \\\\\n",
       "\\bottomrule\n",
       "\\end{tabular}\n",
       "\\begin{tabular}{lcccccc}\n",
       "               & \\textbf{coef} & \\textbf{std err} & \\textbf{t} & \\textbf{P$> |$t$|$} & \\textbf{[0.025} & \\textbf{0.975]}  \\\\\n",
       "\\midrule\n",
       "\\textbf{const} &     4.81e+04  &     1.23e+04     &     3.912  &         0.000        &      2.4e+04    &     7.22e+04     \\\\\n",
       "\\textbf{beds}  &   -1.191e+04  &     5206.857     &    -2.287  &         0.022        &    -2.21e+04    &    -1685.279     \\\\\n",
       "\\textbf{baths} &    4597.3611  &     6877.127     &     0.669  &         0.504        &    -8901.756    &     1.81e+04     \\\\\n",
       "\\textbf{sqft}  &     132.5549  &        7.308     &    18.138  &         0.000        &      118.210    &      146.900     \\\\\n",
       "\\bottomrule\n",
       "\\end{tabular}\n",
       "\\begin{tabular}{lclc}\n",
       "\\textbf{Omnibus:}       & 214.880 & \\textbf{  Durbin-Watson:     } &    1.146  \\\\\n",
       "\\textbf{Prob(Omnibus):} &   0.000 & \\textbf{  Jarque-Bera (JB):  } & 6472.297  \\\\\n",
       "\\textbf{Skew:}          &   0.515 & \\textbf{  Prob(JB):          } &     0.00  \\\\\n",
       "\\textbf{Kurtosis:}      &  16.784 & \\textbf{  Cond. No.          } & 7.33e+03  \\\\\n",
       "\\bottomrule\n",
       "\\end{tabular}\n",
       "%\\caption{OLS Regression Results}\n",
       "\\end{center}\n",
       "\n",
       "Notes: \\newline\n",
       " [1] Standard Errors assume that the covariance matrix of the errors is correctly specified. \\newline\n",
       " [2] The condition number is large, 7.33e+03. This might indicate that there are \\newline\n",
       " strong multicollinearity or other numerical problems."
      ],
      "text/plain": [
       "<class 'statsmodels.iolib.summary.Summary'>\n",
       "\"\"\"\n",
       "                            OLS Regression Results                            \n",
       "==============================================================================\n",
       "Dep. Variable:                  price   R-squared:                       0.485\n",
       "Model:                            OLS   Adj. R-squared:                  0.483\n",
       "Method:                 Least Squares   F-statistic:                     253.8\n",
       "Date:                Sun, 20 Oct 2024   Prob (F-statistic):          4.83e-116\n",
       "Time:                        14:57:54   Log-Likelihood:                -10391.\n",
       "No. Observations:                 813   AIC:                         2.079e+04\n",
       "Df Residuals:                     809   BIC:                         2.081e+04\n",
       "Df Model:                           3                                         \n",
       "Covariance Type:            nonrobust                                         \n",
       "==============================================================================\n",
       "                 coef    std err          t      P>|t|      [0.025      0.975]\n",
       "------------------------------------------------------------------------------\n",
       "const        4.81e+04   1.23e+04      3.912      0.000     2.4e+04    7.22e+04\n",
       "beds       -1.191e+04   5206.857     -2.287      0.022   -2.21e+04   -1685.279\n",
       "baths       4597.3611   6877.127      0.669      0.504   -8901.756    1.81e+04\n",
       "sqft         132.5549      7.308     18.138      0.000     118.210     146.900\n",
       "==============================================================================\n",
       "Omnibus:                      214.880   Durbin-Watson:                   1.146\n",
       "Prob(Omnibus):                  0.000   Jarque-Bera (JB):             6472.297\n",
       "Skew:                           0.515   Prob(JB):                         0.00\n",
       "Kurtosis:                      16.784   Cond. No.                     7.33e+03\n",
       "==============================================================================\n",
       "\n",
       "Notes:\n",
       "[1] Standard Errors assume that the covariance matrix of the errors is correctly specified.\n",
       "[2] The condition number is large, 7.33e+03. This might indicate that there are\n",
       "strong multicollinearity or other numerical problems.\n",
       "\"\"\""
      ]
     },
     "execution_count": 67,
     "metadata": {},
     "output_type": "execute_result"
    }
   ],
   "source": [
    "X = numeric_columns[['beds', 'baths', 'sqft']]  # Predictor variables\n",
    "X = sm.add_constant(X) #nly do for statsmodels; creates a new column for a constant value of 1 \n",
    "y = numeric_columns['price']  # Target variable (price)\n",
    "\n",
    "# The Default here is Linear Regression (ordinary least squares regression OLS)\n",
    "model = sm.OLS(y,X)\n",
    "model = model.fit() #chain \"fit()\" to the model object\n",
    "predictions = model.predict(X)\n",
    "\n",
    "model.summary()"
   ]
  },
  {
   "cell_type": "markdown",
   "metadata": {},
   "source": [
    "### 16. Regression Metrics\n",
    "\n",
    "Implement a function called `r2_adj()` that will calculate $R^2_{adj}$ for a model. "
   ]
  },
  {
   "cell_type": "code",
   "execution_count": 117,
   "metadata": {},
   "outputs": [],
   "source": [
    "def r2_adj(y, predictions, total_variables):\n",
    "   \n",
    "    r2 = metrics.r2_score(y, predictions)  # Calculate R-squared\n",
    "    n = len(y)                              # Number of observations\n",
    "    adj_r2 = 1 - (1 - r2) * (n - 1) / (n - total_variables - 1)  # Calculate Adjusted R-squared\n",
    "\n",
    "    return r2, adj_r2\n"
   ]
  },
  {
   "cell_type": "code",
   "execution_count": 127,
   "metadata": {},
   "outputs": [
    {
     "name": "stdout",
     "output_type": "stream",
     "text": [
      "R-squared: 1.0\n",
      "Adjusted R-squared: 1.0\n",
      "Root Mean Squared Error (RMSE): 3.681375715146283e-11\n"
     ]
    }
   ],
   "source": [
    "\n",
    "data = {\n",
    "    'sqft': [1500, 1600, 1700, 1800, 1900],\n",
    "    'beds': [3, 4, 3, 5, 4],\n",
    "    'baths': [1, 2, 3, 4, 5],\n",
    "    'price': [300000, 320000, 340000, 360000, 380000]\n",
    "}\n",
    "numerical_columns = pd.DataFrame(data)\n",
    "\n",
    "# Define predictor variables: sqft and beds\n",
    "feature = ['sqft', 'beds','baths']  \n",
    "X = numerical_columns[feature]\n",
    "X = sm.add_constant(X)  # Adds a constant term to the predictor\n",
    "y = numerical_columns['price']\n",
    "\n",
    "# Fit the model\n",
    "model = sm.OLS(y, X).fit()\n",
    "\n",
    "# Make predictions\n",
    "predictions = model.predict(X)\n",
    "\n",
    "# Calculate metrics\n",
    "total_variables = len(feature)  # Number of predictors\n",
    "r_squared, adjusted_r_squared = r2_adj(y, predictions, total_variables)\n",
    "rmse = np.sqrt(np.mean((y - predictions) ** 2))\n",
    "\n",
    "# Print results\n",
    "print(\"R-squared:\", r_squared)\n",
    "print(\"Adjusted R-squared:\", adjusted_r_squared)\n",
    "print(\"Root Mean Squared Error (RMSE):\", rmse)\n"
   ]
  },
  {
   "cell_type": "markdown",
   "metadata": {},
   "source": [
    "### 17. Metrics, metrics, everywhere...\n",
    "\n",
    "Calculate and interpret at least three regression metrics. How well does your model perform?"
   ]
  },
  {
   "cell_type": "code",
   "execution_count": 129,
   "metadata": {},
   "outputs": [
    {
     "name": "stdout",
     "output_type": "stream",
     "text": [
      "Mean Absolute Error (MAE): 2.3283064365386964e-11\n",
      "Mean Squared Error (MSE): 1.3552527156068806e-21\n",
      "Mean Absolute Percentage Error (MAPE): 6.29732004034589e-15\n"
     ]
    }
   ],
   "source": [
    "# Calculate additional metrics\n",
    "mae = metrics.mean_absolute_error(y, predictions)\n",
    "mse = metrics.mean_squared_error(y, predictions)\n",
    "mape = np.mean(np.abs((y - predictions) / y)) * 100  # Expressed as a percentage\n",
    "\n",
    "# Print additional metrics\n",
    "print(\"Mean Absolute Error (MAE):\", mae)\n",
    "print(\"Mean Squared Error (MSE):\", mse)\n",
    "print(\"Mean Absolute Percentage Error (MAPE):\", mape)"
   ]
  },
  {
   "cell_type": "markdown",
   "metadata": {},
   "source": [
    "__Interpret__\n",
    "The regression model demonstrates outstanding performance, as indicated by these metrics (having e-XX error value). The model can make very precise predictions with negligible errors, making it highly effective for analytical needs. "
   ]
  },
  {
   "cell_type": "markdown",
   "metadata": {},
   "source": [
    "### 18. Model Iteration\n",
    "\n",
    "Adjust your model by adding or removing a variable. Then calculate the same regression metrics as you used in question 17. Has your model performance increased or decreased?"
   ]
  },
  {
   "cell_type": "code",
   "execution_count": null,
   "metadata": {},
   "outputs": [],
   "source": []
  },
  {
   "cell_type": "markdown",
   "metadata": {},
   "source": [
    "### 19. Bias vs. Variance\n",
    "\n",
    "_(To be completed after the bias-variance tradeoff lecture.)_ At this point, do you think your model is high bias, high variance or in the sweet spot?"
   ]
  },
  {
   "cell_type": "code",
   "execution_count": null,
   "metadata": {},
   "outputs": [],
   "source": []
  }
 ],
 "metadata": {
  "anaconda-cloud": {},
  "kernelspec": {
   "display_name": "Python 3 (ipykernel)",
   "language": "python",
   "name": "python3"
  },
  "language_info": {
   "codemirror_mode": {
    "name": "ipython",
    "version": 3
   },
   "file_extension": ".py",
   "mimetype": "text/x-python",
   "name": "python",
   "nbconvert_exporter": "python",
   "pygments_lexer": "ipython3",
   "version": "3.12.4"
  }
 },
 "nbformat": 4,
 "nbformat_minor": 4
}
